{
  "nbformat": 4,
  "nbformat_minor": 0,
  "metadata": {
    "colab": {
      "provenance": [],
      "authorship_tag": "ABX9TyOqI89+fZrz1DsYXHbJtmxX",
      "include_colab_link": true
    },
    "kernelspec": {
      "name": "python3",
      "display_name": "Python 3"
    },
    "language_info": {
      "name": "python"
    }
  },
  "cells": [
    {
      "cell_type": "markdown",
      "metadata": {
        "id": "view-in-github",
        "colab_type": "text"
      },
      "source": [
        "<a href=\"https://colab.research.google.com/github/lindatsaiyushan/Introduction-to-Computers/blob/main/0517.ipynb\" target=\"_parent\"><img src=\"https://colab.research.google.com/assets/colab-badge.svg\" alt=\"Open In Colab\"/></a>"
      ]
    },
    {
      "cell_type": "code",
      "execution_count": 3,
      "metadata": {
        "colab": {
          "base_uri": "https://localhost:8080/"
        },
        "id": "MbenH4PxWmg3",
        "outputId": "6229e1c9-63d2-4238-ccb3-0c4393146d75"
      },
      "outputs": [
        {
          "output_type": "stream",
          "name": "stdout",
          "text": [
            "score: 90\n",
            "Grade is: A\n"
          ]
        }
      ],
      "source": [
        "score = int(input(\"score: \"))\n",
        "if score >= 90:\n",
        "    print('Grade is: A')\n",
        "elif score >= 80:\n",
        "    print('Grade is: B')\n",
        "elif score >= 70:\n",
        "    print('Grade is: C')\n",
        "elif score >= 60:\n",
        "    print('Grade is: D')\n",
        "else:\n",
        "    print('Grade is: F')"
      ]
    },
    {
      "cell_type": "code",
      "source": [
        "rain=input(\"今天會下雨嗎?\")\n",
        "if (rain==\"Y\" or rain==\"y\"):\n",
        "  print(\"出門記得帶傘!\")\n",
        "elif (rain==\"N\" or rain==\"n\"):\n",
        "  print(\"出門不用帶傘!\")\n",
        "else:\n",
        "  print(\"輸入錯誤!\")"
      ],
      "metadata": {
        "colab": {
          "base_uri": "https://localhost:8080/"
        },
        "id": "F-4rNfJ9uES2",
        "outputId": "63d458b4-f781-4439-9b2b-c2339d13018f"
      },
      "execution_count": 21,
      "outputs": [
        {
          "output_type": "stream",
          "name": "stdout",
          "text": [
            "今天會下雨嗎?m\n",
            "輸入錯誤!\n"
          ]
        }
      ]
    },
    {
      "cell_type": "code",
      "source": [
        "temperature=int(input('temperature: '))\n",
        "if temperature >= 37.5:\n",
        "    print(\"體溫過高!\")\n",
        "elif 37 <= temperature <= 37.4:\n",
        "    print(\"體溫略高!\")\n",
        "elif 34 <= temperature <= 36.9:\n",
        "    print(\"體溫正常!\")\n",
        "else:\n",
        "    print(\"體溫異常，請重新量測!\")"
      ],
      "metadata": {
        "colab": {
          "base_uri": "https://localhost:8080/"
        },
        "id": "oNtVa45mWsrQ",
        "outputId": "2f8fefb0-65f8-46d1-f323-1e4cd4d7257d"
      },
      "execution_count": 17,
      "outputs": [
        {
          "output_type": "stream",
          "name": "stdout",
          "text": [
            "temperature: 36\n",
            "體溫正常!\n"
          ]
        }
      ]
    },
    {
      "cell_type": "code",
      "source": [
        "score = int(input(\"score: \"))\n",
        "if score >= 90:\n",
        "    print('Grade is: A')\n",
        "elif 80 <= score <= 89:\n",
        "    print('Grade is: B')\n",
        "elif 70 <= score <= 79:\n",
        "    print('Grade is: C')\n",
        "elif 60 <= score <= 69:\n",
        "    print('Grade is: D')\n",
        "else:\n",
        "    print('Grade is: E')"
      ],
      "metadata": {
        "colab": {
          "base_uri": "https://localhost:8080/"
        },
        "id": "X7huce6TWs_j",
        "outputId": "6f7af92c-5623-47f4-d124-bcace649aa58"
      },
      "execution_count": 18,
      "outputs": [
        {
          "output_type": "stream",
          "name": "stdout",
          "text": [
            "score: 88\n",
            "Grade is: B\n"
          ]
        }
      ]
    },
    {
      "cell_type": "code",
      "source": [
        "month=int(input('請輸入月份(阿拉伯數字):'))\n",
        "if(month>=1 and month<=12):\n",
        "  if(month==3 or month==4 or month==5):\n",
        "   print('%d月是春天!'%month)\n",
        "  elif(month==6 or month==7 or month==8):\n",
        "   print('%d月是夏天!'%month) \n",
        "  elif(month==9 or month==10 or month==11):\n",
        "   print('%d月是秋天!'%month)  \n",
        "  else:\n",
        "    print(' %d 月是冬天!'%month)  \n",
        "else:\n",
        "  print('輸入錯誤!%d月不在範圍內!'%month)"
      ],
      "metadata": {
        "colab": {
          "base_uri": "https://localhost:8080/"
        },
        "id": "UlONW4DIWtST",
        "outputId": "1227597c-c9f8-4055-c8e0-589a2d176b02"
      },
      "execution_count": 19,
      "outputs": [
        {
          "output_type": "stream",
          "name": "stdout",
          "text": [
            "請輸入月份(阿拉伯數字):12\n",
            " 12 月是冬天!\n"
          ]
        }
      ]
    },
    {
      "cell_type": "code",
      "source": [
        "income = int(input(\"今年收入淨額: \"))\n",
        "if income >= 2000000:\n",
        "    rate=0.3\n",
        "elif income >= 1000000:\n",
        "    rate=0.21\n",
        "elif income >= 600000:\n",
        "    rate=0.13\n",
        "elif income >= 300000:\n",
        "    rate=0.06\n",
        "income=income*rate\n",
        "print('付稅金額:%.2f' %income)    "
      ],
      "metadata": {
        "colab": {
          "base_uri": "https://localhost:8080/"
        },
        "id": "HJpzsGnrxPx_",
        "outputId": "b5fb35d0-dde0-47c4-d7d1-8e143e716154"
      },
      "execution_count": 28,
      "outputs": [
        {
          "output_type": "stream",
          "name": "stdout",
          "text": [
            "今年收入淨額: 2000000\n",
            "付稅金額:600000.00\n"
          ]
        }
      ]
    }
  ]
}